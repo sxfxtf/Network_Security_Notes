{
 "cells": [
  {
   "cell_type": "markdown",
   "id": "realistic-equality",
   "metadata": {},
   "source": [
    "## ip域名端口和二级ip,域名"
   ]
  },
  {
   "cell_type": "markdown",
   "id": "metropolitan-mixer",
   "metadata": {},
   "source": [
    "## ip和域名\n",
    "- 搜索引擎和一些特殊网站 比如站长之家 fofa\n",
    "- SSL证书\n",
    "- DNS历史记录  www.dnsdb.io网站\n",
    "- 威胁情报平台 华为 360\n",
    "- JS或者源码备注信息 jsfinder\n",
    "- APP反编译\n",
    "- 微信公众号\n",
    "- 工具查询C段 御剑 K8\n",
    "- 备案网站查询 www.beianbeian.com"
   ]
  },
  {
   "cell_type": "markdown",
   "id": "particular-height",
   "metadata": {},
   "source": [
    "## 敏感信息\n",
    "- web源码的敏感目录(git,svn,rar,zip等) 7kb 破壳\n",
    "- 相关的邮箱地址 whois网站\n",
    "- 网站查询 github查询代码,情报分析网站,乌云历史递交记录\n",
    "- 搜索引擎\n",
    "- 社工信息 企查查"
   ]
  },
  {
   "cell_type": "markdown",
   "id": "another-shareware",
   "metadata": {},
   "source": [
    "## Nmap查询开放端口\n",
    "\n",
    "```Nmap -Pn -open -A -n -v -Il filename```\n",
    "\n",
    "- -Pn 跳过主机发现\n",
    "- -n 不做DNS解析\n",
    "- -open 只显示开放端口\n",
    "- -A 扫描过程中查看扫描进度\n",
    "- -v 显示详细信息\n",
    "- -F 快速扫描100个常见端口\n",
    "- -p 选择扫描的端口 比如-p1-65535\n",
    "- -iL 把需要扫描的IP从文件中读取\n",
    "- -T 可以选择扫描等级比如T3,想快点的话选T4\n"
   ]
  },
  {
   "cell_type": "code",
   "execution_count": null,
   "id": "recreational-adolescent",
   "metadata": {},
   "outputs": [],
   "source": []
  }
 ],
 "metadata": {
  "kernelspec": {
   "display_name": "Python 3",
   "language": "python",
   "name": "python3"
  },
  "language_info": {
   "codemirror_mode": {
    "name": "ipython",
    "version": 3
   },
   "file_extension": ".py",
   "mimetype": "text/x-python",
   "name": "python",
   "nbconvert_exporter": "python",
   "pygments_lexer": "ipython3",
   "version": "3.6.5"
  }
 },
 "nbformat": 4,
 "nbformat_minor": 5
}
