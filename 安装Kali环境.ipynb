{
 "cells": [
  {
   "cell_type": "markdown",
   "id": "arctic-father",
   "metadata": {},
   "source": [
    "# 安装Kali环境\n",
    "\n",
    "`安装后敲击命令可能会因为不是ROOT账号,没有权限,需要切换到root账户`\n",
    "\n",
    "```切换命令  sudo su root```\n",
    "\n",
    "\n",
    "\n",
    "1. **安装部分略**\n",
    "\n",
    "2. **安装后开启SSH服务**\n",
    "\n",
    "    2.1 第一步：开启kail 远程ssh，开启办法如下：\n",
    "    1、配置SSH参数\n",
    "    修改sshd_config文件，命令为：vi /etc/ssh/sshd_config\n",
    "    将#PasswordAuthentication no的注释去掉，并且将NO修改为YES //kali中默认是yes\n",
    "    将PermitRootLogin without-password修改为PermitRootLogin yes\n",
    "    然后，保存，退出vi\n",
    "\n",
    "    2.2 第二步：启动SSH服务\n",
    "    命令为：/etc/init.d/ssh start\n",
    "    或者\n",
    "    service ssh start\n",
    "\n",
    "    查看SSH服务状态是否正常运行，命令为：\n",
    "    /etc/init.d/ssh status\n",
    "    或者\n",
    "    service ssh status\n",
    "\n",
    "    2.3 第三步和centos不同,KAIL 默认SSH服务关闭,所以重启后还是自动关闭\n",
    "\n",
    "    ​\t\t需要设置自动开启    设置系统自动启动SSH服务\n",
    "    ​\t\tupdate-rc.d ssh enable  //系统自动启动SSH服务\n",
    "    ​\t\tupdate-rc.d ssh disabled // 关闭系统自动启动SSH服务\n",
    "\n"
   ]
  },
  {
   "cell_type": "code",
   "execution_count": null,
   "id": "returning-ancient",
   "metadata": {},
   "outputs": [],
   "source": []
  }
 ],
 "metadata": {
  "kernelspec": {
   "display_name": "Python 3",
   "language": "python",
   "name": "python3"
  },
  "language_info": {
   "codemirror_mode": {
    "name": "ipython",
    "version": 3
   },
   "file_extension": ".py",
   "mimetype": "text/x-python",
   "name": "python",
   "nbconvert_exporter": "python",
   "pygments_lexer": "ipython3",
   "version": "3.6.5"
  }
 },
 "nbformat": 4,
 "nbformat_minor": 5
}
